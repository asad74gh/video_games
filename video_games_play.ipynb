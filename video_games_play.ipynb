{
 "cells": [
  {
   "cell_type": "code",
   "execution_count": 14,
   "id": "c4e348f9-ce03-4307-9d9f-74a00931b21d",
   "metadata": {},
   "outputs": [],
   "source": [
    "import pandas as pd\n",
    "import matplotlib.pyplot as plt\n",
    "import seaborn as sns"
   ]
  },
  {
   "cell_type": "code",
   "execution_count": 3,
   "id": "c2cca56e-3f28-4007-bd6b-818e45f9f366",
   "metadata": {},
   "outputs": [],
   "source": [
    "df=pd.read_csv(r\"C:\\Users\\user\\Downloads\\archive (8)\\VideoGameUsage_Profile.csv\")"
   ]
  },
  {
   "cell_type": "code",
   "execution_count": 4,
   "id": "949cf141-4e43-42f0-9922-68ebadc58d76",
   "metadata": {},
   "outputs": [
    {
     "data": {
      "text/html": [
       "<div>\n",
       "<style scoped>\n",
       "    .dataframe tbody tr th:only-of-type {\n",
       "        vertical-align: middle;\n",
       "    }\n",
       "\n",
       "    .dataframe tbody tr th {\n",
       "        vertical-align: top;\n",
       "    }\n",
       "\n",
       "    .dataframe thead th {\n",
       "        text-align: right;\n",
       "    }\n",
       "</style>\n",
       "<table border=\"1\" class=\"dataframe\">\n",
       "  <thead>\n",
       "    <tr style=\"text-align: right;\">\n",
       "      <th></th>\n",
       "      <th>Age</th>\n",
       "      <th>Gender</th>\n",
       "      <th>student</th>\n",
       "      <th>play_video_game</th>\n",
       "      <th>favorite_game</th>\n",
       "      <th>most_played_game</th>\n",
       "      <th>reason_of_play_game</th>\n",
       "    </tr>\n",
       "  </thead>\n",
       "  <tbody>\n",
       "    <tr>\n",
       "      <th>0</th>\n",
       "      <td>22</td>\n",
       "      <td>Male</td>\n",
       "      <td>Yes</td>\n",
       "      <td>Yes</td>\n",
       "      <td>FIFA 22</td>\n",
       "      <td>FIFA 22</td>\n",
       "      <td>competition</td>\n",
       "    </tr>\n",
       "    <tr>\n",
       "      <th>1</th>\n",
       "      <td>21</td>\n",
       "      <td>Male</td>\n",
       "      <td>Yes</td>\n",
       "      <td>Yes</td>\n",
       "      <td>Call of Duty</td>\n",
       "      <td>Call of Duty</td>\n",
       "      <td>entertainment</td>\n",
       "    </tr>\n",
       "    <tr>\n",
       "      <th>2</th>\n",
       "      <td>23</td>\n",
       "      <td>Male</td>\n",
       "      <td>Yes</td>\n",
       "      <td>Yes</td>\n",
       "      <td>GTA Vice City</td>\n",
       "      <td>GTA Vice City</td>\n",
       "      <td>entertainment</td>\n",
       "    </tr>\n",
       "    <tr>\n",
       "      <th>3</th>\n",
       "      <td>23</td>\n",
       "      <td>Male</td>\n",
       "      <td>Yes</td>\n",
       "      <td>sometimes</td>\n",
       "      <td>pubg</td>\n",
       "      <td>pubg</td>\n",
       "      <td>entertainment</td>\n",
       "    </tr>\n",
       "    <tr>\n",
       "      <th>4</th>\n",
       "      <td>23</td>\n",
       "      <td>Male</td>\n",
       "      <td>Yes</td>\n",
       "      <td>Yes</td>\n",
       "      <td>pubg</td>\n",
       "      <td>pubg</td>\n",
       "      <td>entertainment</td>\n",
       "    </tr>\n",
       "  </tbody>\n",
       "</table>\n",
       "</div>"
      ],
      "text/plain": [
       "   Age Gender student play_video_game  favorite_game most_played_game  \\\n",
       "0   22   Male     Yes             Yes        FIFA 22         FIFA 22    \n",
       "1   21   Male     Yes             Yes   Call of Duty     Call of Duty   \n",
       "2   23   Male     Yes             Yes  GTA Vice City    GTA Vice City   \n",
       "3   23   Male     Yes       sometimes           pubg             pubg   \n",
       "4   23   Male     Yes             Yes           pubg             pubg   \n",
       "\n",
       "  reason_of_play_game  \n",
       "0         competition  \n",
       "1       entertainment  \n",
       "2       entertainment  \n",
       "3       entertainment  \n",
       "4       entertainment  "
      ]
     },
     "execution_count": 4,
     "metadata": {},
     "output_type": "execute_result"
    }
   ],
   "source": [
    "df.head()"
   ]
  },
  {
   "cell_type": "code",
   "execution_count": 55,
   "id": "604c71db-9960-4128-ba42-86baa1f0953c",
   "metadata": {},
   "outputs": [
    {
     "data": {
      "text/plain": [
       "array(['FIFA 22 ', 'Call of Duty', 'GTA Vice City', 'pubg', 'Minecraft',\n",
       "       'FIFA 22', 'Apex Legends', 'Rocket League', 'Animal Crossing',\n",
       "       'Among Us', 'The Sims', 'Stardew Valley', 'League of Legends',\n",
       "       'Mario Kart', 'World of Warcraft', 'Fortnite'], dtype=object)"
      ]
     },
     "execution_count": 55,
     "metadata": {},
     "output_type": "execute_result"
    }
   ],
   "source": [
    "df.most_played_game.unique()"
   ]
  },
  {
   "cell_type": "code",
   "execution_count": 56,
   "id": "4015c5a5-f577-4d41-80cb-2e3bd131a466",
   "metadata": {},
   "outputs": [],
   "source": [
    "df['most_played_game']=df['most_played_game'].str.strip()"
   ]
  },
  {
   "cell_type": "code",
   "execution_count": 57,
   "id": "cf0b0357-2956-4633-a6a4-df94062ffbca",
   "metadata": {},
   "outputs": [
    {
     "data": {
      "text/plain": [
       "array(['FIFA 22', 'Call of Duty', 'GTA Vice City', 'pubg', 'Minecraft',\n",
       "       'Apex Legends', 'Rocket League', 'Animal Crossing', 'Among Us',\n",
       "       'The Sims', 'Stardew Valley', 'League of Legends', 'Mario Kart',\n",
       "       'World of Warcraft', 'Fortnite'], dtype=object)"
      ]
     },
     "execution_count": 57,
     "metadata": {},
     "output_type": "execute_result"
    }
   ],
   "source": [
    "df.most_played_game.unique()"
   ]
  },
  {
   "cell_type": "code",
   "execution_count": null,
   "id": "4dbff6de-e922-4428-a097-8b8a9f2e7019",
   "metadata": {},
   "outputs": [],
   "source": []
  },
  {
   "cell_type": "markdown",
   "id": "cd98d6cf-53ed-47ef-b1d8-03159cd50079",
   "metadata": {},
   "source": [
    ">> Age group playing games the most"
   ]
  },
  {
   "cell_type": "code",
   "execution_count": 60,
   "id": "ac714b42-5dca-408d-ba72-c4b13bca07a6",
   "metadata": {},
   "outputs": [],
   "source": [
    "df_age_group=df['Age'].value_counts()"
   ]
  },
  {
   "cell_type": "code",
   "execution_count": 61,
   "id": "ffed9cb3-f538-411b-a23a-13edd3d3b4d3",
   "metadata": {},
   "outputs": [
    {
     "data": {
      "text/plain": [
       "<Axes: xlabel='Age', ylabel='count'>"
      ]
     },
     "execution_count": 61,
     "metadata": {},
     "output_type": "execute_result"
    },
    {
     "data": {
      "image/png": "[encoded data removed]",
      "text/plain": [
       "<Figure size 640x480 with 1 Axes>"
      ]
     },
     "metadata": {},
     "output_type": "display_data"
    }
   ],
   "source": [
    "sns.barplot(df_age_group)"
   ]
  },
  {
   "cell_type": "code",
   "execution_count": null,
   "id": "3d8a1aec-78a9-4d24-8f3e-f255a5f4dc64",
   "metadata": {},
   "outputs": [],
   "source": []
  },
  {
   "cell_type": "markdown",
   "id": "d0a4aa85-735e-4c2e-94cf-711daf9c7974",
   "metadata": {},
   "source": [
    ">> Gender playing games the most"
   ]
  },
  {
   "cell_type": "code",
   "execution_count": 63,
   "id": "5775cba3-8f06-4a20-a3fa-068f5774335f",
   "metadata": {},
   "outputs": [],
   "source": [
    "df_gender_group=df['Gender'].value_counts()"
   ]
  },
  {
   "cell_type": "code",
   "execution_count": 64,
   "id": "e5eab251-2f35-49e2-a864-67c4d1fb2343",
   "metadata": {},
   "outputs": [
    {
     "data": {
      "text/plain": [
       "<Axes: xlabel='Gender', ylabel='count'>"
      ]
     },
     "execution_count": 64,
     "metadata": {},
     "output_type": "execute_result"
    },
    {
     "data": {
      "image/png": "[encoded data removed]",
      "text/plain": [
       "<Figure size 640x480 with 1 Axes>"
      ]
     },
     "metadata": {},
     "output_type": "display_data"
    }
   ],
   "source": [
    "sns.barplot(df_gender_group)"
   ]
  },
  {
   "cell_type": "code",
   "execution_count": null,
   "id": "3128ab63-4f2a-4e79-b4a1-bd746405737c",
   "metadata": {},
   "outputs": [],
   "source": []
  },
  {
   "cell_type": "code",
   "execution_count": 65,
   "id": "79801d25-44d0-4855-b94f-e30dc1f9446f",
   "metadata": {},
   "outputs": [],
   "source": [
    "df_game_frequency=df['play_video_game'].value_counts()"
   ]
  },
  {
   "cell_type": "code",
   "execution_count": 66,
   "id": "379a9864-deb4-4454-ab4a-ec2e007c8993",
   "metadata": {},
   "outputs": [
    {
     "data": {
      "text/plain": [
       "<Axes: xlabel='play_video_game', ylabel='count'>"
      ]
     },
     "execution_count": 66,
     "metadata": {},
     "output_type": "execute_result"
    },
    {
     "data": {
      "image/png": "[encoded data removed]",
      "text/plain": [
       "<Figure size 640x480 with 1 Axes>"
      ]
     },
     "metadata": {},
     "output_type": "display_data"
    }
   ],
   "source": [
    "sns.barplot(df_game_frequency)"
   ]
  },
  {
   "cell_type": "code",
   "execution_count": null,
   "id": "3201fe04-02e5-4b0d-963f-8610b85eaf5e",
   "metadata": {},
   "outputs": [],
   "source": []
  },
  {
   "cell_type": "code",
   "execution_count": 67,
   "id": "4cc44737-e963-4862-90cd-49b818774ffe",
   "metadata": {},
   "outputs": [],
   "source": [
    "df_favorite_game=df['favorite_game'].value_counts().head(10)"
   ]
  },
  {
   "cell_type": "code",
   "execution_count": 68,
   "id": "0e63b7b0-d4e4-45f7-8bc6-8e6f43f87b4f",
   "metadata": {},
   "outputs": [
    {
     "data": {
      "text/plain": [
       "<Axes: xlabel='favorite_game', ylabel='count'>"
      ]
     },
     "execution_count": 68,
     "metadata": {},
     "output_type": "execute_result"
    },
    {
     "data": {
      "image/png": "[encoded data removed]",
      "text/plain": [
       "<Figure size 1600x600 with 1 Axes>"
      ]
     },
     "metadata": {},
     "output_type": "display_data"
    }
   ],
   "source": [
    "plt.figure(figsize=(16,6))\n",
    "sns.barplot(df_favorite_game)"
   ]
  },
  {
   "cell_type": "code",
   "execution_count": 69,
   "id": "6eeb9179-ee9b-478b-9d4c-3865fd0c26b4",
   "metadata": {},
   "outputs": [
    {
     "data": {
      "text/html": [
       "<div>\n",
       "<style scoped>\n",
       "    .dataframe tbody tr th:only-of-type {\n",
       "        vertical-align: middle;\n",
       "    }\n",
       "\n",
       "    .dataframe tbody tr th {\n",
       "        vertical-align: top;\n",
       "    }\n",
       "\n",
       "    .dataframe thead th {\n",
       "        text-align: right;\n",
       "    }\n",
       "</style>\n",
       "<table border=\"1\" class=\"dataframe\">\n",
       "  <thead>\n",
       "    <tr style=\"text-align: right;\">\n",
       "      <th></th>\n",
       "      <th>Age</th>\n",
       "      <th>Gender</th>\n",
       "      <th>student</th>\n",
       "      <th>play_video_game</th>\n",
       "      <th>favorite_game</th>\n",
       "      <th>most_played_game</th>\n",
       "      <th>reason_of_play_game</th>\n",
       "    </tr>\n",
       "  </thead>\n",
       "  <tbody>\n",
       "    <tr>\n",
       "      <th>0</th>\n",
       "      <td>22</td>\n",
       "      <td>Male</td>\n",
       "      <td>Yes</td>\n",
       "      <td>Yes</td>\n",
       "      <td>FIFA 22</td>\n",
       "      <td>FIFA 22</td>\n",
       "      <td>competition</td>\n",
       "    </tr>\n",
       "    <tr>\n",
       "      <th>1</th>\n",
       "      <td>21</td>\n",
       "      <td>Male</td>\n",
       "      <td>Yes</td>\n",
       "      <td>Yes</td>\n",
       "      <td>Call of Duty</td>\n",
       "      <td>Call of Duty</td>\n",
       "      <td>entertainment</td>\n",
       "    </tr>\n",
       "    <tr>\n",
       "      <th>2</th>\n",
       "      <td>23</td>\n",
       "      <td>Male</td>\n",
       "      <td>Yes</td>\n",
       "      <td>Yes</td>\n",
       "      <td>GTA Vice City</td>\n",
       "      <td>GTA Vice City</td>\n",
       "      <td>entertainment</td>\n",
       "    </tr>\n",
       "    <tr>\n",
       "      <th>3</th>\n",
       "      <td>23</td>\n",
       "      <td>Male</td>\n",
       "      <td>Yes</td>\n",
       "      <td>sometimes</td>\n",
       "      <td>pubg</td>\n",
       "      <td>pubg</td>\n",
       "      <td>entertainment</td>\n",
       "    </tr>\n",
       "    <tr>\n",
       "      <th>4</th>\n",
       "      <td>23</td>\n",
       "      <td>Male</td>\n",
       "      <td>Yes</td>\n",
       "      <td>Yes</td>\n",
       "      <td>pubg</td>\n",
       "      <td>pubg</td>\n",
       "      <td>entertainment</td>\n",
       "    </tr>\n",
       "  </tbody>\n",
       "</table>\n",
       "</div>"
      ],
      "text/plain": [
       "   Age Gender student play_video_game  favorite_game most_played_game  \\\n",
       "0   22   Male     Yes             Yes        FIFA 22          FIFA 22   \n",
       "1   21   Male     Yes             Yes   Call of Duty     Call of Duty   \n",
       "2   23   Male     Yes             Yes  GTA Vice City    GTA Vice City   \n",
       "3   23   Male     Yes       sometimes           pubg             pubg   \n",
       "4   23   Male     Yes             Yes           pubg             pubg   \n",
       "\n",
       "  reason_of_play_game  \n",
       "0         competition  \n",
       "1       entertainment  \n",
       "2       entertainment  \n",
       "3       entertainment  \n",
       "4       entertainment  "
      ]
     },
     "execution_count": 69,
     "metadata": {},
     "output_type": "execute_result"
    }
   ],
   "source": [
    "df.head()"
   ]
  },
  {
   "cell_type": "code",
   "execution_count": null,
   "id": "f6443a88-a121-4216-84d6-8decd626325e",
   "metadata": {},
   "outputs": [],
   "source": []
  },
  {
   "cell_type": "code",
   "execution_count": 70,
   "id": "25d497d8-b327-4782-8a43-96c7449b6ec6",
   "metadata": {},
   "outputs": [],
   "source": [
    "df_most_played_game=df['most_played_game'].value_counts().head(10)"
   ]
  },
  {
   "cell_type": "code",
   "execution_count": 71,
   "id": "c49dbb11-cda3-40d4-bc8a-3fde3a5a9c35",
   "metadata": {},
   "outputs": [
    {
     "data": {
      "text/plain": [
       "<Axes: xlabel='most_played_game', ylabel='count'>"
      ]
     },
     "execution_count": 71,
     "metadata": {},
     "output_type": "execute_result"
    },
    {
     "data": {
      "image/png": "[encoded data removed]",
      "text/plain": [
       "<Figure size 1600x600 with 1 Axes>"
      ]
     },
     "metadata": {},
     "output_type": "display_data"
    }
   ],
   "source": [
    "plt.figure(figsize=(16,6))\n",
    "sns.barplot(df_most_played_game)"
   ]
  },
  {
   "cell_type": "code",
   "execution_count": null,
   "id": "cc27eac0-6f2a-49f0-a1fd-edf44e129653",
   "metadata": {},
   "outputs": [],
   "source": []
  },
  {
   "cell_type": "code",
   "execution_count": 87,
   "id": "0eb0bc61-4367-4abf-8f92-b67df40e41fe",
   "metadata": {},
   "outputs": [],
   "source": [
    "df1=df.groupby(['Age'])['favorite_game'].value_counts().reset_index()"
   ]
  },
  {
   "cell_type": "code",
   "execution_count": 88,
   "id": "5275e4a4-18be-4fa2-b956-d74110b73e55",
   "metadata": {},
   "outputs": [
    {
     "data": {
      "text/html": [
       "<div>\n",
       "<style scoped>\n",
       "    .dataframe tbody tr th:only-of-type {\n",
       "        vertical-align: middle;\n",
       "    }\n",
       "\n",
       "    .dataframe tbody tr th {\n",
       "        vertical-align: top;\n",
       "    }\n",
       "\n",
       "    .dataframe thead th {\n",
       "        text-align: right;\n",
       "    }\n",
       "</style>\n",
       "<table border=\"1\" class=\"dataframe\">\n",
       "  <thead>\n",
       "    <tr style=\"text-align: right;\">\n",
       "      <th></th>\n",
       "      <th>Age</th>\n",
       "      <th>favorite_game</th>\n",
       "      <th>count</th>\n",
       "    </tr>\n",
       "  </thead>\n",
       "  <tbody>\n",
       "    <tr>\n",
       "      <th>0</th>\n",
       "      <td>21</td>\n",
       "      <td>Minecraft</td>\n",
       "      <td>3</td>\n",
       "    </tr>\n",
       "    <tr>\n",
       "      <th>1</th>\n",
       "      <td>21</td>\n",
       "      <td>Animal Crossing</td>\n",
       "      <td>1</td>\n",
       "    </tr>\n",
       "    <tr>\n",
       "      <th>2</th>\n",
       "      <td>21</td>\n",
       "      <td>Apex Legends</td>\n",
       "      <td>1</td>\n",
       "    </tr>\n",
       "    <tr>\n",
       "      <th>3</th>\n",
       "      <td>21</td>\n",
       "      <td>GTA Vice City</td>\n",
       "      <td>1</td>\n",
       "    </tr>\n",
       "    <tr>\n",
       "      <th>4</th>\n",
       "      <td>21</td>\n",
       "      <td>Call of Duty</td>\n",
       "      <td>1</td>\n",
       "    </tr>\n",
       "    <tr>\n",
       "      <th>5</th>\n",
       "      <td>22</td>\n",
       "      <td>Minecraft</td>\n",
       "      <td>3</td>\n",
       "    </tr>\n",
       "    <tr>\n",
       "      <th>6</th>\n",
       "      <td>22</td>\n",
       "      <td>pubg</td>\n",
       "      <td>2</td>\n",
       "    </tr>\n",
       "    <tr>\n",
       "      <th>7</th>\n",
       "      <td>22</td>\n",
       "      <td>Rocket League</td>\n",
       "      <td>1</td>\n",
       "    </tr>\n",
       "    <tr>\n",
       "      <th>8</th>\n",
       "      <td>22</td>\n",
       "      <td>League of Legends</td>\n",
       "      <td>1</td>\n",
       "    </tr>\n",
       "    <tr>\n",
       "      <th>9</th>\n",
       "      <td>22</td>\n",
       "      <td>GTA Vice City</td>\n",
       "      <td>1</td>\n",
       "    </tr>\n",
       "    <tr>\n",
       "      <th>10</th>\n",
       "      <td>22</td>\n",
       "      <td>FIFA 22</td>\n",
       "      <td>1</td>\n",
       "    </tr>\n",
       "    <tr>\n",
       "      <th>11</th>\n",
       "      <td>22</td>\n",
       "      <td>Call of Duty</td>\n",
       "      <td>1</td>\n",
       "    </tr>\n",
       "    <tr>\n",
       "      <th>12</th>\n",
       "      <td>23</td>\n",
       "      <td>Minecraft</td>\n",
       "      <td>13</td>\n",
       "    </tr>\n",
       "    <tr>\n",
       "      <th>13</th>\n",
       "      <td>23</td>\n",
       "      <td>Call of Duty</td>\n",
       "      <td>11</td>\n",
       "    </tr>\n",
       "    <tr>\n",
       "      <th>14</th>\n",
       "      <td>23</td>\n",
       "      <td>GTA Vice City</td>\n",
       "      <td>9</td>\n",
       "    </tr>\n",
       "    <tr>\n",
       "      <th>15</th>\n",
       "      <td>23</td>\n",
       "      <td>pubg</td>\n",
       "      <td>6</td>\n",
       "    </tr>\n",
       "    <tr>\n",
       "      <th>16</th>\n",
       "      <td>23</td>\n",
       "      <td>Animal Crossing</td>\n",
       "      <td>4</td>\n",
       "    </tr>\n",
       "    <tr>\n",
       "      <th>17</th>\n",
       "      <td>23</td>\n",
       "      <td>League of Legends</td>\n",
       "      <td>2</td>\n",
       "    </tr>\n",
       "    <tr>\n",
       "      <th>18</th>\n",
       "      <td>23</td>\n",
       "      <td>FIFA 22</td>\n",
       "      <td>2</td>\n",
       "    </tr>\n",
       "    <tr>\n",
       "      <th>19</th>\n",
       "      <td>23</td>\n",
       "      <td>Mario Kart</td>\n",
       "      <td>1</td>\n",
       "    </tr>\n",
       "    <tr>\n",
       "      <th>20</th>\n",
       "      <td>23</td>\n",
       "      <td>The Sims</td>\n",
       "      <td>1</td>\n",
       "    </tr>\n",
       "    <tr>\n",
       "      <th>21</th>\n",
       "      <td>23</td>\n",
       "      <td>Stardew Valley</td>\n",
       "      <td>1</td>\n",
       "    </tr>\n",
       "    <tr>\n",
       "      <th>22</th>\n",
       "      <td>23</td>\n",
       "      <td>Fortnite</td>\n",
       "      <td>1</td>\n",
       "    </tr>\n",
       "    <tr>\n",
       "      <th>23</th>\n",
       "      <td>23</td>\n",
       "      <td>Apex Legends</td>\n",
       "      <td>1</td>\n",
       "    </tr>\n",
       "    <tr>\n",
       "      <th>24</th>\n",
       "      <td>23</td>\n",
       "      <td>Among Us</td>\n",
       "      <td>1</td>\n",
       "    </tr>\n",
       "    <tr>\n",
       "      <th>25</th>\n",
       "      <td>24</td>\n",
       "      <td>GTA Vice City</td>\n",
       "      <td>7</td>\n",
       "    </tr>\n",
       "    <tr>\n",
       "      <th>26</th>\n",
       "      <td>24</td>\n",
       "      <td>Minecraft</td>\n",
       "      <td>4</td>\n",
       "    </tr>\n",
       "    <tr>\n",
       "      <th>27</th>\n",
       "      <td>24</td>\n",
       "      <td>pubg</td>\n",
       "      <td>2</td>\n",
       "    </tr>\n",
       "    <tr>\n",
       "      <th>28</th>\n",
       "      <td>24</td>\n",
       "      <td>Stardew Valley</td>\n",
       "      <td>1</td>\n",
       "    </tr>\n",
       "    <tr>\n",
       "      <th>29</th>\n",
       "      <td>24</td>\n",
       "      <td>FIFA 22</td>\n",
       "      <td>1</td>\n",
       "    </tr>\n",
       "    <tr>\n",
       "      <th>30</th>\n",
       "      <td>25</td>\n",
       "      <td>FIFA 22</td>\n",
       "      <td>2</td>\n",
       "    </tr>\n",
       "    <tr>\n",
       "      <th>31</th>\n",
       "      <td>25</td>\n",
       "      <td>Call of Duty</td>\n",
       "      <td>2</td>\n",
       "    </tr>\n",
       "    <tr>\n",
       "      <th>32</th>\n",
       "      <td>25</td>\n",
       "      <td>GTA Vice City</td>\n",
       "      <td>2</td>\n",
       "    </tr>\n",
       "    <tr>\n",
       "      <th>33</th>\n",
       "      <td>26</td>\n",
       "      <td>FIFA 22</td>\n",
       "      <td>1</td>\n",
       "    </tr>\n",
       "    <tr>\n",
       "      <th>34</th>\n",
       "      <td>26</td>\n",
       "      <td>Fortnite</td>\n",
       "      <td>1</td>\n",
       "    </tr>\n",
       "    <tr>\n",
       "      <th>35</th>\n",
       "      <td>26</td>\n",
       "      <td>GTA Vice City</td>\n",
       "      <td>1</td>\n",
       "    </tr>\n",
       "    <tr>\n",
       "      <th>36</th>\n",
       "      <td>26</td>\n",
       "      <td>Minecraft</td>\n",
       "      <td>1</td>\n",
       "    </tr>\n",
       "    <tr>\n",
       "      <th>37</th>\n",
       "      <td>26</td>\n",
       "      <td>pubg</td>\n",
       "      <td>1</td>\n",
       "    </tr>\n",
       "    <tr>\n",
       "      <th>38</th>\n",
       "      <td>27</td>\n",
       "      <td>Minecraft</td>\n",
       "      <td>1</td>\n",
       "    </tr>\n",
       "    <tr>\n",
       "      <th>39</th>\n",
       "      <td>27</td>\n",
       "      <td>Stardew Valley</td>\n",
       "      <td>1</td>\n",
       "    </tr>\n",
       "    <tr>\n",
       "      <th>40</th>\n",
       "      <td>27</td>\n",
       "      <td>World of Warcraft</td>\n",
       "      <td>1</td>\n",
       "    </tr>\n",
       "  </tbody>\n",
       "</table>\n",
       "</div>"
      ],
      "text/plain": [
       "    Age      favorite_game  count\n",
       "0    21          Minecraft      3\n",
       "1    21    Animal Crossing      1\n",
       "2    21       Apex Legends      1\n",
       "3    21      GTA Vice City      1\n",
       "4    21       Call of Duty      1\n",
       "5    22          Minecraft      3\n",
       "6    22               pubg      2\n",
       "7    22      Rocket League      1\n",
       "8    22  League of Legends      1\n",
       "9    22      GTA Vice City      1\n",
       "10   22            FIFA 22      1\n",
       "11   22       Call of Duty      1\n",
       "12   23          Minecraft     13\n",
       "13   23       Call of Duty     11\n",
       "14   23      GTA Vice City      9\n",
       "15   23               pubg      6\n",
       "16   23    Animal Crossing      4\n",
       "17   23  League of Legends      2\n",
       "18   23            FIFA 22      2\n",
       "19   23         Mario Kart      1\n",
       "20   23           The Sims      1\n",
       "21   23     Stardew Valley      1\n",
       "22   23           Fortnite      1\n",
       "23   23       Apex Legends      1\n",
       "24   23           Among Us      1\n",
       "25   24      GTA Vice City      7\n",
       "26   24          Minecraft      4\n",
       "27   24               pubg      2\n",
       "28   24     Stardew Valley      1\n",
       "29   24            FIFA 22      1\n",
       "30   25            FIFA 22      2\n",
       "31   25       Call of Duty      2\n",
       "32   25      GTA Vice City      2\n",
       "33   26            FIFA 22      1\n",
       "34   26           Fortnite      1\n",
       "35   26      GTA Vice City      1\n",
       "36   26          Minecraft      1\n",
       "37   26               pubg      1\n",
       "38   27          Minecraft      1\n",
       "39   27     Stardew Valley      1\n",
       "40   27  World of Warcraft      1"
      ]
     },
     "execution_count": 88,
     "metadata": {},
     "output_type": "execute_result"
    }
   ],
   "source": [
    "df1"
   ]
  },
  {
   "cell_type": "code",
   "execution_count": 106,
   "id": "c32b084d-aa7e-4036-9c32-39722b9eba6c",
   "metadata": {},
   "outputs": [
    {
     "data": {
      "text/plain": [
       "<Axes: xlabel='favorite_game', ylabel='count'>"
      ]
     },
     "execution_count": 106,
     "metadata": {},
     "output_type": "execute_result"
    },
    {
     "data": {
      "image/png": "[encoded data removed]",
      "text/plain": [
       "<Figure size 2200x1200 with 1 Axes>"
      ]
     },
     "metadata": {},
     "output_type": "display_data"
    }
   ],
   "source": [
    "plt.figure(figsize=(22,12))\n",
    "sns.barplot(df1,x='favorite_game',y='count',hue='Age')"
   ]
  },
  {
   "cell_type": "code",
   "execution_count": null,
   "id": "49ae1abe-7a42-435b-a2c6-ac092841df17",
   "metadata": {},
   "outputs": [],
   "source": []
  },
  {
   "cell_type": "code",
   "execution_count": 113,
   "id": "eca4ed3d-81bd-4262-a9af-875d2caefda0",
   "metadata": {},
   "outputs": [],
   "source": [
    "df_reason_of_play_game=df.reason_of_play_game.value_counts()"
   ]
  },
  {
   "cell_type": "code",
   "execution_count": 114,
   "id": "1fa8cb5b-9473-41b2-bad7-459980bbde19",
   "metadata": {},
   "outputs": [
    {
     "data": {
      "text/plain": [
       "<Axes: xlabel='reason_of_play_game', ylabel='count'>"
      ]
     },
     "execution_count": 114,
     "metadata": {},
     "output_type": "execute_result"
    },
    {
     "data": {
      "image/png": "[encoded data removed]",
      "text/plain": [
       "<Figure size 640x480 with 1 Axes>"
      ]
     },
     "metadata": {},
     "output_type": "display_data"
    }
   ],
   "source": [
    "sns.barplot(df_reason_of_play_game)"
   ]
  },
  {
   "cell_type": "code",
   "execution_count": null,
   "id": "0addcdff-2635-42dd-a058-8d3c1850fd37",
   "metadata": {},
   "outputs": [],
   "source": []
  },
  {
   "cell_type": "code",
   "execution_count": null,
   "id": "29acc762-1f4d-4e62-9be1-8a7eabc20ea3",
   "metadata": {},
   "outputs": [],
   "source": []
  }
 ],
 "metadata": {
  "kernelspec": {
   "display_name": "Python 3 (ipykernel)",
   "language": "python",
   "name": "python3"
  },
  "language_info": {
   "codemirror_mode": {
    "name": "ipython",
    "version": 3
   },
   "file_extension": ".py",
   "mimetype": "text/x-python",
   "name": "python",
   "nbconvert_exporter": "python",
   "pygments_lexer": "ipython3",
   "version": "3.12.0"
  }
 },
 "nbformat": 4,
 "nbformat_minor": 5
}
